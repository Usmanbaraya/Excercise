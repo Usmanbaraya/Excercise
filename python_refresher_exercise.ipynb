{
  "cells": [
    {
      "cell_type": "markdown",
      "metadata": {
        "id": "view-in-github",
        "colab_type": "text"
      },
      "source": [
        "<a href=\"https://colab.research.google.com/github/Usmanbaraya/streamlit/blob/main/python_refresher_exercise.ipynb\" target=\"_parent\"><img src=\"https://colab.research.google.com/assets/colab-badge.svg\" alt=\"Open In Colab\"/></a>"
      ]
    },
    {
      "cell_type": "markdown",
      "metadata": {
        "vscode": {
          "languageId": "plaintext"
        },
        "id": "Yoz3SufAuzmA"
      },
      "source": [
        "# Python Refresher Exercise  \n",
        "\n",
        "This exercise is designed to help you revisit and test your understanding of core Python concepts covered in class. You will work on tasks covering variables, data types, loops, functions, conditionals, file handling and object-oriented programming. These fundamentals are crucial for your success in more advanced topics like data analysis, machine learning, and building applications.  \n",
        "\n",
        "If you find this exercise particularly challenging, it’s a sign that you should revisit the learning materials and class recordings. Use this as an opportunity to strengthen your foundation before moving forward in the course.  \n",
        "\n",
        "Your goal is to demonstrate proficiency in Python basics by solving the provided problems effectively and writing clean, functional code.  \n",
        "\n",
        "## Instructions  \n",
        "\n",
        "- Answer the questions or complete the tasks outlined in **bold** below.  \n",
        "- Use the specific method described if applicable.  \n",
        "- **Important:** Do not run your code in the same cell where the answer is provided. Create a new cell below/above and write your code there.  \n",
        "- Running code in the same cell as the answer will overwrite the provided hints and answers. Ensure you follow this structure to retain all information.  \n",
        "\n",
        "Good luck!  \n"
      ]
    },
    {
      "cell_type": "markdown",
      "metadata": {
        "id": "2F1AssRwuzmK"
      },
      "source": [
        "**1. Task:** What is 7 to the power of 4?"
      ]
    },
    {
      "cell_type": "code",
      "execution_count": null,
      "metadata": {
        "id": "KgMtRchiuzmO",
        "outputId": "51c44243-020f-4dc7-aa6a-4df41d974b30"
      },
      "outputs": [
        {
          "data": {
            "text/plain": [
              "2401"
            ]
          },
          "execution_count": 1,
          "metadata": {},
          "output_type": "execute_result"
        }
      ],
      "source": []
    },
    {
      "cell_type": "code",
      "execution_count": null,
      "metadata": {
        "id": "Ly8H68RouzmR"
      },
      "outputs": [],
      "source": [
        "# Write your answer here"
      ]
    },
    {
      "cell_type": "markdown",
      "metadata": {
        "id": "TKmE5NTruzmW"
      },
      "source": [
        "**2.Task** Split this string:\n",
        "\n",
        "    s = \"Hi there Daveworld!\"\n",
        "    \n",
        "**into a list.**"
      ]
    },
    {
      "cell_type": "code",
      "execution_count": null,
      "metadata": {
        "id": "aA7TZyOtuzmY",
        "outputId": "08f355fd-a056-4f70-864f-ca72a6f78792"
      },
      "outputs": [
        {
          "data": {
            "text/plain": [
              "['Hi', 'there', 'Daveworld!']"
            ]
          },
          "execution_count": 2,
          "metadata": {},
          "output_type": "execute_result"
        }
      ],
      "source": [
        "s = 'Hi there Daveworld!'\n"
      ]
    },
    {
      "cell_type": "code",
      "execution_count": null,
      "metadata": {
        "id": "O52_YObJuzmc"
      },
      "outputs": [],
      "source": [
        "# Write your answer here"
      ]
    },
    {
      "cell_type": "markdown",
      "metadata": {
        "id": "28GSoxAmuzmf"
      },
      "source": [
        "**3.Task** Given this nested list, use indexing to grab the word \"hello\""
      ]
    },
    {
      "cell_type": "code",
      "execution_count": null,
      "metadata": {
        "id": "x9CkIOQVuzmh"
      },
      "outputs": [],
      "source": [
        "lst = [1,2,[3,4],[5,[100,200,['hello']],23,11],1,7]"
      ]
    },
    {
      "cell_type": "code",
      "execution_count": null,
      "metadata": {
        "id": "tIgVherpuzmi",
        "outputId": "f39475df-ce8e-4d5d-ba18-84155d31e460"
      },
      "outputs": [
        {
          "data": {
            "text/plain": [
              "'hello'"
            ]
          },
          "execution_count": 4,
          "metadata": {},
          "output_type": "execute_result"
        }
      ],
      "source": []
    },
    {
      "cell_type": "code",
      "execution_count": null,
      "metadata": {
        "id": "w4nU06C7uzmj"
      },
      "outputs": [],
      "source": [
        "# Write your answer here"
      ]
    },
    {
      "cell_type": "markdown",
      "metadata": {
        "id": "ph3lYzu-uzml"
      },
      "source": [
        "**4. Task** Given this nest dictionary grab the word \"hello\". Be prepared, this will be annoying/tricky try your best!"
      ]
    },
    {
      "cell_type": "code",
      "execution_count": null,
      "metadata": {
        "id": "GodxV4j9uzmm"
      },
      "outputs": [],
      "source": [
        "d = {'k1':[1,2,3,{'tricky':['oh','man','inception',{'target':[1,2,3,'hello']}]}]}"
      ]
    },
    {
      "cell_type": "code",
      "execution_count": null,
      "metadata": {
        "id": "B8Gi9GRIuzmn",
        "outputId": "72f0fa12-b724-407a-dd69-aeb83a585dfb"
      },
      "outputs": [
        {
          "data": {
            "text/plain": [
              "'hello'"
            ]
          },
          "execution_count": 6,
          "metadata": {},
          "output_type": "execute_result"
        }
      ],
      "source": []
    },
    {
      "cell_type": "code",
      "execution_count": null,
      "metadata": {
        "id": "1Y9Zz-QBuzmo"
      },
      "outputs": [],
      "source": [
        "# Write your answer here"
      ]
    },
    {
      "cell_type": "markdown",
      "metadata": {
        "id": "2kPUoOGquzmp"
      },
      "source": [
        "**5. Task** What is the main difference between a tuple and a list?"
      ]
    },
    {
      "cell_type": "code",
      "execution_count": null,
      "metadata": {
        "id": "SZ_TQzvBuzmq"
      },
      "outputs": [],
      "source": [
        "# Write your answer here"
      ]
    },
    {
      "cell_type": "markdown",
      "metadata": {
        "id": "hAmxwWrluzmr"
      },
      "source": [
        "**6. Task** Create a function that grabs the email website domain from a string in the form:\n",
        "\n",
        "    user@domain.com\n",
        "    \n",
        "**So for example, passing \"user@domain.com\" would return: domain.com**"
      ]
    },
    {
      "cell_type": "code",
      "execution_count": null,
      "metadata": {
        "id": "mQ-UROsTuzms"
      },
      "outputs": [],
      "source": [
        "# Write your answer here"
      ]
    },
    {
      "cell_type": "code",
      "execution_count": null,
      "metadata": {
        "id": "bEYpBxP6uzmu",
        "outputId": "d1c00bb3-4543-4cbe-efac-8ab93707b439"
      },
      "outputs": [
        {
          "data": {
            "text/plain": [
              "'domain.com'"
            ]
          },
          "execution_count": 8,
          "metadata": {},
          "output_type": "execute_result"
        }
      ],
      "source": [
        "# use the following code to test your implementation\n",
        "domainGet('user@domain.com')"
      ]
    },
    {
      "cell_type": "markdown",
      "metadata": {
        "id": "2F09NSjQuzmw"
      },
      "source": [
        "**7.Task** Create a basic function that returns True if the word 'appliso' is contained in the input string. Don't worry about edge cases like a punctuation being attached to the word 'appliso', but do account for capitalization.\n",
        "\n",
        "    string = \"Appliso is a tech company aiming to change the world!\""
      ]
    },
    {
      "cell_type": "code",
      "execution_count": null,
      "metadata": {
        "id": "x0JphiYKuzmx"
      },
      "outputs": [],
      "source": [
        "# write your answer here"
      ]
    },
    {
      "cell_type": "code",
      "execution_count": null,
      "metadata": {
        "id": "vPitvNAluzmy",
        "outputId": "48acc237-016a-4c6b-de18-1799a98357fb"
      },
      "outputs": [
        {
          "data": {
            "text/plain": [
              "True"
            ]
          },
          "execution_count": 11,
          "metadata": {},
          "output_type": "execute_result"
        }
      ],
      "source": [
        "# Use the following code to test your implementation\n",
        "findAppliso('Appliso is a tech company aiming to change the world!?')"
      ]
    },
    {
      "cell_type": "markdown",
      "metadata": {
        "id": "zrK-89Lbuzmz"
      },
      "source": [
        "**8. Task** Create a function that counts the number of times the word \"dog\" occurs in a string. Again ignore edge cases."
      ]
    },
    {
      "cell_type": "code",
      "execution_count": null,
      "metadata": {
        "id": "1hcmmuppuzm0"
      },
      "outputs": [],
      "source": [
        "# write your answer here"
      ]
    },
    {
      "cell_type": "code",
      "execution_count": null,
      "metadata": {
        "id": "C4nwpvT5uzm0",
        "outputId": "20aefb4a-66c0-48a4-f1de-7dfc2b1775f9"
      },
      "outputs": [
        {
          "data": {
            "text/plain": [
              "2"
            ]
          },
          "execution_count": 13,
          "metadata": {},
          "output_type": "execute_result"
        }
      ],
      "source": [
        "# Use the following code to test your implementation\n",
        "countDog('This dog runs faster than the other dog dude!')"
      ]
    },
    {
      "cell_type": "markdown",
      "metadata": {
        "id": "YLp542oZuzm1"
      },
      "source": [
        "**9. Task:** Create a class called Person with attributes name and age. Add a method called introduce that prints, \"Hi, I am [name] and I am [age] years old.\" Instantiate an object and call the introduce method."
      ]
    },
    {
      "cell_type": "code",
      "execution_count": null,
      "metadata": {
        "id": "uqJBkVtQuzm2"
      },
      "outputs": [],
      "source": [
        "# write your answer here"
      ]
    },
    {
      "cell_type": "code",
      "execution_count": null,
      "metadata": {
        "id": "pVF7THmGuzm2",
        "outputId": "0e0cf34c-4c81-414a-e9b1-e3f69c317e8a"
      },
      "outputs": [
        {
          "name": "stdout",
          "output_type": "stream",
          "text": [
            "Hi, I am John and I am 25 years old.\n"
          ]
        }
      ],
      "source": []
    },
    {
      "cell_type": "markdown",
      "metadata": {
        "id": "1xhC9uW_uzm3"
      },
      "source": [
        "**10.Task:** Write a Python program to create a text file named sample.txt, write \"Hello, Python!\" to it, and then read the content."
      ]
    },
    {
      "cell_type": "code",
      "execution_count": null,
      "metadata": {
        "id": "z7w3lU8Ruzm4",
        "outputId": "d7896aba-2255-42c2-c17b-b2e712276f2b"
      },
      "outputs": [
        {
          "name": "stdout",
          "output_type": "stream",
          "text": [
            "Hello, Python!\n"
          ]
        }
      ],
      "source": []
    },
    {
      "cell_type": "code",
      "execution_count": null,
      "metadata": {
        "id": "qbVfj1LNuzm5"
      },
      "outputs": [],
      "source": [
        "# write your answer here"
      ]
    },
    {
      "cell_type": "markdown",
      "metadata": {
        "id": "8osID7IRuzm6"
      },
      "source": [
        "**11. Task:** Use a list comprehension to create a list of squares for all numbers from 1 to 10.\n",
        "\n"
      ]
    },
    {
      "cell_type": "code",
      "execution_count": null,
      "metadata": {
        "id": "AvXVrFb9uzm7",
        "outputId": "de92fe18-965f-4e1d-f1fb-1df1bb2e2a03"
      },
      "outputs": [
        {
          "name": "stdout",
          "output_type": "stream",
          "text": [
            "[1, 4, 9, 16, 25, 36, 49, 64, 81, 100]\n"
          ]
        }
      ],
      "source": [
        "# List comprehension for squares\n",
        "\n"
      ]
    },
    {
      "cell_type": "markdown",
      "metadata": {
        "id": "IrrrcROPuzm9"
      },
      "source": [
        "**12. Task:** Import the math library and use it to calculate the square root of 16.\n",
        "\n"
      ]
    },
    {
      "cell_type": "code",
      "execution_count": null,
      "metadata": {
        "id": "yhBbeBFRuzm_",
        "outputId": "4ad83465-8397-486c-92b1-31701dd17518"
      },
      "outputs": [
        {
          "name": "stdout",
          "output_type": "stream",
          "text": [
            "The square root of 16 is 4.0.\n"
          ]
        }
      ],
      "source": []
    },
    {
      "cell_type": "code",
      "execution_count": null,
      "metadata": {
        "id": "YrIRtaKhuznB"
      },
      "outputs": [],
      "source": [
        "# write your answer here"
      ]
    },
    {
      "cell_type": "markdown",
      "metadata": {
        "id": "eqBTzsRouznC"
      },
      "source": [
        "**13. Task:** Write a Python program that performs the following:  \n",
        "1. Accepts two numbers from the user.  \n",
        "2. Tries to divide the first number by the second.  \n",
        "3. Handles `ZeroDivisionError` if the second number is zero.  \n",
        "4. Handles `ValueError` if the input is not a number.  \n",
        "5. Prints a message when all operations are complete, whether an exception occurred or not.  \n"
      ]
    },
    {
      "cell_type": "code",
      "execution_count": null,
      "metadata": {
        "id": "h9r7nD1FuznD",
        "outputId": "d4746dea-08b6-4654-d3d0-b5eed5a0907c"
      },
      "outputs": [
        {
          "name": "stdout",
          "output_type": "stream",
          "text": [
            "Error: Invalid input! Please enter a number.\n",
            "Operation completed.\n"
          ]
        }
      ],
      "source": []
    },
    {
      "cell_type": "code",
      "execution_count": null,
      "metadata": {
        "id": "WtYdpoauuznX"
      },
      "outputs": [],
      "source": [
        "# write your answer here"
      ]
    },
    {
      "cell_type": "markdown",
      "metadata": {
        "id": "OlDn6--juznY"
      },
      "source": [
        "**14 Task:** Use lambda expressions and the filter() function to filter out words from a list that don't start with the letter 's'. For example:\n",
        "\n",
        "    seq = ['soup','dog','salad','cat','great']\n",
        "\n",
        "**should be filtered down to:**\n",
        "\n",
        "    ['soup','salad']"
      ]
    },
    {
      "cell_type": "code",
      "execution_count": null,
      "metadata": {
        "id": "M8f5zfjquznZ"
      },
      "outputs": [],
      "source": [
        "seq = ['soup','dog','salad','cat','great']"
      ]
    },
    {
      "cell_type": "code",
      "execution_count": null,
      "metadata": {
        "id": "OkbWzigIuznZ",
        "outputId": "add6993d-c070-43b7-c86a-a60556c7a6e0"
      },
      "outputs": [
        {
          "data": {
            "text/plain": [
              "['soup', 'salad']"
            ]
          },
          "execution_count": 23,
          "metadata": {},
          "output_type": "execute_result"
        }
      ],
      "source": []
    },
    {
      "cell_type": "markdown",
      "metadata": {
        "id": "yStcHtc9uzna"
      },
      "source": [
        "### Final Problem\n",
        "\n",
        "**15 Task:** You are given a list of students' scores and a cut-off mark. Write a Python program to determine:  \n",
        "1. The number of students who passed the cut-off mark.  \n",
        "2. The number of students who did not pass the cut-off mark.  \n",
        "3. Print the percentage of students who passed and failed.  \n",
        "\n",
        "**Details:**  \n",
        "- You will be provided a list of scores (e.g., `[45, 78, 88, 56, 90, 34, 65, 77]`).  \n",
        "- The cut-off mark is 50.  \n",
        "\n",
        "Write your program to calculate the above and output the results in a clear format.\n",
        "\n",
        "---\n",
        "\n",
        "### **Expected Output Example:**  \n",
        "For the given scores `[45, 78, 88, 56, 90, 34, 65, 77]` and cut-off mark of 50:  \n",
        "\n",
        "Number of students who passed: 5\n",
        "Number of students who failed: 3\n",
        "Percentage of students who passed: 62.5%\n",
        "Percentage of students who failed: 37.5%\n",
        "\n",
        "### **Hint:**  \n",
        "Use a loop or list comprehension to filter the scores based on the cut-off mark. You can calculate percentages using the formula:  "
      ]
    },
    {
      "cell_type": "code",
      "execution_count": null,
      "metadata": {
        "id": "gBcxcDRWuznb",
        "outputId": "2a57f4bc-e68a-4448-dccc-8d51885188f4"
      },
      "outputs": [
        {
          "name": "stdout",
          "output_type": "stream",
          "text": [
            "Number of students who passed: 6\n",
            "Number of students who failed: 2\n",
            "Percentage of students who passed: 75.00%\n",
            "Percentage of students who failed: 25.00%\n"
          ]
        }
      ],
      "source": [
        "# List of student scores\n",
        "scores = [45, 78, 88, 56, 90, 34, 65, 77]\n",
        "\n",
        "# Cut-off mark\n",
        "cut_off = 50\n",
        "\n",
        "\n",
        "\n",
        "# Print the results\n",
        "print(f\"Number of students who passed: {num_passed}\")\n",
        "print(f\"Number of students who failed: {num_failed}\")\n",
        "print(f\"Percentage of students who passed: {percent_passed:.2f}%\")\n",
        "print(f\"Percentage of students who failed: {percent_failed:.2f}%\")"
      ]
    },
    {
      "cell_type": "code",
      "execution_count": null,
      "metadata": {
        "id": "jg42GHsVuznc"
      },
      "outputs": [],
      "source": [
        "# write your answer here"
      ]
    },
    {
      "cell_type": "markdown",
      "metadata": {
        "id": "FKqB2Buxuznd"
      },
      "source": [
        "# Great job!"
      ]
    }
  ],
  "metadata": {
    "kernelspec": {
      "display_name": "base",
      "language": "python",
      "name": "python3"
    },
    "language_info": {
      "codemirror_mode": {
        "name": "ipython",
        "version": 3
      },
      "file_extension": ".py",
      "mimetype": "text/x-python",
      "name": "python",
      "nbconvert_exporter": "python",
      "pygments_lexer": "ipython3",
      "version": "3.12.4"
    },
    "colab": {
      "provenance": [],
      "include_colab_link": true
    }
  },
  "nbformat": 4,
  "nbformat_minor": 0
}