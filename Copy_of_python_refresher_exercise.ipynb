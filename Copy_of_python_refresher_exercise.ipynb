{
  "cells": [
    {
      "cell_type": "markdown",
      "metadata": {
        "id": "view-in-github",
        "colab_type": "text"
      },
      "source": [
        "<a href=\"https://colab.research.google.com/github/Usmanbaraya/streamlit/blob/main/Copy_of_python_refresher_exercise.ipynb\" target=\"_parent\"><img src=\"https://colab.research.google.com/assets/colab-badge.svg\" alt=\"Open In Colab\"/></a>"
      ]
    },
    {
      "cell_type": "markdown",
      "metadata": {
        "vscode": {
          "languageId": "plaintext"
        },
        "id": "DGBpjYPsgNNM"
      },
      "source": [
        "# Python Refresher Exercise  \n",
        "\n",
        "This exercise is designed to help you revisit and test your understanding of core Python concepts covered in class. You will work on tasks covering variables, data types, loops, functions, conditionals, file handling and object-oriented programming. These fundamentals are crucial for your success in more advanced topics like data analysis, machine learning, and building applications.  \n",
        "\n",
        "If you find this exercise particularly challenging, it’s a sign that you should revisit the learning materials and class recordings. Use this as an opportunity to strengthen your foundation before moving forward in the course.  \n",
        "\n",
        "Your goal is to demonstrate proficiency in Python basics by solving the provided problems effectively and writing clean, functional code.  \n",
        "\n",
        "## Instructions  \n",
        "\n",
        "- Answer the questions or complete the tasks outlined in **bold** below.  \n",
        "- Use the specific method described if applicable.  \n",
        "- **Important:** Do not run your code in the same cell where the answer is provided. Create a new cell below/above and write your code there.  \n",
        "- Running code in the same cell as the answer will overwrite the provided hints and answers. Ensure you follow this structure to retain all information.  \n",
        "\n",
        "Good luck!  \n"
      ]
    },
    {
      "cell_type": "markdown",
      "metadata": {
        "id": "t7ikE8w9gNN2"
      },
      "source": [
        "**1. Task:** What is 7 to the power of 4?"
      ]
    },
    {
      "cell_type": "code",
      "execution_count": null,
      "metadata": {
        "id": "omK5TF84gNOD",
        "outputId": "ce72ead5-88c7-4151-8571-501a7dfe7059"
      },
      "outputs": [
        {
          "data": {
            "text/plain": [
              "2401"
            ]
          },
          "execution_count": 1,
          "metadata": {},
          "output_type": "execute_result"
        }
      ],
      "source": []
    },
    {
      "cell_type": "code",
      "execution_count": null,
      "metadata": {
        "colab": {
          "base_uri": "https://localhost:8080/"
        },
        "id": "4Am3WKvbgNOi",
        "outputId": "b8b07430-b253-4a7c-fa84-8eaa91e2111b"
      },
      "outputs": [
        {
          "output_type": "execute_result",
          "data": {
            "text/plain": [
              "2401"
            ]
          },
          "metadata": {},
          "execution_count": 1
        }
      ],
      "source": [
        "pow(7, 4)"
      ]
    },
    {
      "cell_type": "markdown",
      "metadata": {
        "id": "XFAu6Tj6gNOn"
      },
      "source": [
        "**2.Task** Split this string:\n",
        "\n",
        "    s = \"Hi there Daveworld!\"\n",
        "    \n",
        "**into a list.**"
      ]
    },
    {
      "cell_type": "code",
      "execution_count": null,
      "metadata": {
        "id": "K4-p-dklgNOs"
      },
      "outputs": [],
      "source": [
        "s = 'Hi there Daveworld!'\n"
      ]
    },
    {
      "cell_type": "code",
      "execution_count": null,
      "metadata": {
        "colab": {
          "base_uri": "https://localhost:8080/"
        },
        "id": "G5wOi-xEgNO3",
        "outputId": "57983e5e-054c-40e5-8090-88723a3dbcf2"
      },
      "outputs": [
        {
          "output_type": "stream",
          "name": "stdout",
          "text": [
            "['Hi', 'there', 'Daveworld!']\n"
          ]
        }
      ],
      "source": [
        "answer = s.split()\n",
        "print(answer)"
      ]
    },
    {
      "cell_type": "markdown",
      "metadata": {
        "id": "wUmB8zXRgNPC"
      },
      "source": [
        "**3.Task** Given this nested list, use indexing to grab the word \"hello\""
      ]
    },
    {
      "cell_type": "code",
      "execution_count": null,
      "metadata": {
        "id": "fbc0Kw4ggNPF"
      },
      "outputs": [],
      "source": [
        "lst = [1,2,[3,4],[5,[100,200,['hello']],23,11],1,7]"
      ]
    },
    {
      "cell_type": "code",
      "execution_count": null,
      "metadata": {
        "id": "VbXXVsqLgNPH",
        "outputId": "4d3f409c-de90-4283-b7c7-2f2926d2ef05"
      },
      "outputs": [
        {
          "data": {
            "text/plain": [
              "'hello'"
            ]
          },
          "execution_count": 4,
          "metadata": {},
          "output_type": "execute_result"
        }
      ],
      "source": []
    },
    {
      "cell_type": "code",
      "execution_count": null,
      "metadata": {
        "colab": {
          "base_uri": "https://localhost:8080/"
        },
        "id": "2qr9boYAgNPI",
        "outputId": "817f2d96-3063-44fb-db7e-841274e654a8"
      },
      "outputs": [
        {
          "output_type": "stream",
          "name": "stdout",
          "text": [
            "hello\n"
          ]
        }
      ],
      "source": [
        "lst = [1, 2, [3, 4], [5, [100, 200, ['hello']], 23, 11], 1, 7]\n",
        "word = lst[3][1][2][0]\n",
        "print(word)"
      ]
    },
    {
      "cell_type": "markdown",
      "metadata": {
        "id": "dfZ81cB_gNPK"
      },
      "source": [
        "**4. Task** Given this nest dictionary grab the word \"hello\". Be prepared, this will be annoying/tricky try your best!"
      ]
    },
    {
      "cell_type": "code",
      "execution_count": null,
      "metadata": {
        "id": "Dh1jsldQgNPP"
      },
      "outputs": [],
      "source": [
        "d = {'k1':[1,2,3,{'tricky':['oh','man','inception',{'target':[1,2,3,'hello']}]}]}"
      ]
    },
    {
      "cell_type": "code",
      "execution_count": null,
      "metadata": {
        "id": "xreTShG_gNPR",
        "outputId": "53957630-35d3-486a-d966-e9b4cddcaa97"
      },
      "outputs": [
        {
          "data": {
            "text/plain": [
              "'hello'"
            ]
          },
          "execution_count": 6,
          "metadata": {},
          "output_type": "execute_result"
        }
      ],
      "source": []
    },
    {
      "cell_type": "code",
      "execution_count": null,
      "metadata": {
        "colab": {
          "base_uri": "https://localhost:8080/"
        },
        "id": "7TVF6jWWgNPT",
        "outputId": "8c7176e8-38a2-4f7b-8881-5b1443e73e01"
      },
      "outputs": [
        {
          "output_type": "stream",
          "name": "stdout",
          "text": [
            "hello\n"
          ]
        }
      ],
      "source": [
        "d = {'k1': [1, 2, 3, {'tricky': ['oh', 'man', 'inception', {'target': [1, 2, 3, 'hello']}]}]}\n",
        "word = d['k1'][3]['tricky'][3]['target'][3]\n",
        "print(word)\n"
      ]
    },
    {
      "cell_type": "markdown",
      "metadata": {
        "id": "YzKbslP8gNPU"
      },
      "source": [
        "**5. Task** What is the main difference between a tuple and a list?"
      ]
    },
    {
      "cell_type": "code",
      "execution_count": null,
      "metadata": {
        "id": "-YwD73ObgNPX"
      },
      "outputs": [],
      "source": [
        "# List is Changeable, slower and uses '[ ]'. it is used when collection of item can be cahnged.\n",
        "# Tuple: Unchangeable, faster, uses '( )'. it is used when collection of item can not be used e.g constant, coordinates and data"
      ]
    },
    {
      "cell_type": "markdown",
      "metadata": {
        "id": "yxUJYTlbgNPY"
      },
      "source": [
        "**6. Task** Create a function that grabs the email website domain from a string in the form:\n",
        "\n",
        "    user@domain.com\n",
        "    \n",
        "**So for example, passing \"user@domain.com\" would return: domain.com**"
      ]
    },
    {
      "cell_type": "code",
      "execution_count": null,
      "metadata": {
        "id": "PtNyhf9xgNPZ"
      },
      "outputs": [],
      "source": [
        "def userGet(email):\n"
      ]
    },
    {
      "cell_type": "code",
      "execution_count": null,
      "metadata": {
        "id": "svZMI9v0gNPa",
        "outputId": "5d61f445-b45c-443d-d1c1-cfbf25c1759f"
      },
      "outputs": [
        {
          "data": {
            "text/plain": [
              "'domain.com'"
            ]
          },
          "execution_count": 8,
          "metadata": {},
          "output_type": "execute_result"
        }
      ],
      "source": [
        "# use the following code to test your implementation\n",
        "domainGet('user@domain.com')"
      ]
    },
    {
      "cell_type": "code",
      "source": [
        "def domainGet(email):\n",
        "  return email.split('@')[-1]\n",
        "result = domainGet('user@domain.com')\n",
        "print(result)"
      ],
      "metadata": {
        "colab": {
          "base_uri": "https://localhost:8080/"
        },
        "id": "lBtiVWMfjC9a",
        "outputId": "e0db1506-c787-42b9-cc8b-b85215217a0b"
      },
      "execution_count": null,
      "outputs": [
        {
          "output_type": "stream",
          "name": "stdout",
          "text": [
            "domain.com\n"
          ]
        }
      ]
    },
    {
      "cell_type": "code",
      "source": [
        "domainGet('user@domain.com')"
      ],
      "metadata": {
        "colab": {
          "base_uri": "https://localhost:8080/",
          "height": 36
        },
        "id": "ncBDi3zBjpW7",
        "outputId": "402b0ded-efd1-4d90-bea2-f9ec17fc263c"
      },
      "execution_count": null,
      "outputs": [
        {
          "output_type": "execute_result",
          "data": {
            "text/plain": [
              "'domain.com'"
            ],
            "application/vnd.google.colaboratory.intrinsic+json": {
              "type": "string"
            }
          },
          "metadata": {},
          "execution_count": 24
        }
      ]
    },
    {
      "cell_type": "markdown",
      "metadata": {
        "id": "YViZdoa6gNPh"
      },
      "source": [
        "**7.Task** Create a basic function that returns True if the word 'appliso' is contained in the input string. Don't worry about edge cases like a punctuation being attached to the word 'appliso', but do account for capitalization.\n",
        "\n",
        "    string = \"Appliso is a tech company aiming to change the world!\""
      ]
    },
    {
      "cell_type": "code",
      "source": [
        "string= \"Appliso is a tech company aiming to change the world!\""
      ],
      "metadata": {
        "id": "0pW4dDJ9b-Pm"
      },
      "execution_count": null,
      "outputs": []
    },
    {
      "cell_type": "code",
      "execution_count": null,
      "metadata": {
        "colab": {
          "base_uri": "https://localhost:8080/"
        },
        "id": "ZEuVLR8pgNPi",
        "outputId": "10df57ad-e26e-4ab5-eb26-09fdffd49f23"
      },
      "outputs": [
        {
          "output_type": "stream",
          "name": "stdout",
          "text": [
            "True\n"
          ]
        }
      ],
      "source": [
        "def contains_appliso(string):\n",
        "       return 'appliso' in string.lower()\n",
        "print(contains_appliso(string))"
      ]
    },
    {
      "cell_type": "code",
      "execution_count": null,
      "metadata": {
        "colab": {
          "base_uri": "https://localhost:8080/",
          "height": 158
        },
        "id": "6iZ6qNpwgNPj",
        "outputId": "3ca693cf-6981-45c8-cc48-bb0dd2b5a7f6"
      },
      "outputs": [
        {
          "output_type": "error",
          "ename": "NameError",
          "evalue": "name 'findAppliso' is not defined",
          "traceback": [
            "\u001b[0;31m---------------------------------------------------------------------------\u001b[0m",
            "\u001b[0;31mNameError\u001b[0m                                 Traceback (most recent call last)",
            "\u001b[0;32m<ipython-input-14-42cb5f93e243>\u001b[0m in \u001b[0;36m<cell line: 2>\u001b[0;34m()\u001b[0m\n\u001b[1;32m      1\u001b[0m \u001b[0;31m# Use the following code to test your implementation\u001b[0m\u001b[0;34m\u001b[0m\u001b[0;34m\u001b[0m\u001b[0m\n\u001b[0;32m----> 2\u001b[0;31m \u001b[0mfindAppliso\u001b[0m\u001b[0;34m(\u001b[0m\u001b[0;34m'Appliso is a tech company aiming to change the world!?'\u001b[0m\u001b[0;34m)\u001b[0m\u001b[0;34m\u001b[0m\u001b[0;34m\u001b[0m\u001b[0m\n\u001b[0m",
            "\u001b[0;31mNameError\u001b[0m: name 'findAppliso' is not defined"
          ]
        }
      ],
      "source": [
        "# Use the following code to test your implementation\n",
        "findAppliso('Appliso is a tech company aiming to change the world!?')"
      ]
    },
    {
      "cell_type": "code",
      "source": [
        "def findAppliso(string):\n",
        "    return 'appliso' in string.lower()\n",
        "result=findAppliso('Appliso is a tech company aiming to change the world!?')\n",
        "print(result)"
      ],
      "metadata": {
        "colab": {
          "base_uri": "https://localhost:8080/"
        },
        "id": "SSwXTIq_baSY",
        "outputId": "b7f06952-6835-4128-b3a2-6a7e3b6c9484"
      },
      "execution_count": null,
      "outputs": [
        {
          "output_type": "stream",
          "name": "stdout",
          "text": [
            "True\n"
          ]
        }
      ]
    },
    {
      "cell_type": "markdown",
      "metadata": {
        "id": "GG3vJZOugNPl"
      },
      "source": [
        "**8. Task** Create a function that counts the number of times the word \"dog\" occurs in a string. Again ignore edge cases."
      ]
    },
    {
      "cell_type": "code",
      "execution_count": null,
      "metadata": {
        "id": "rQ4Vlbe2gNPm"
      },
      "outputs": [],
      "source": [
        "string= 'This dog runs faster than the other dog dude!'\n",
        "def countDog(string):\n",
        "  print(string.count('dog'))"
      ]
    },
    {
      "cell_type": "code",
      "execution_count": null,
      "metadata": {
        "id": "CVn-X5HsgNPn",
        "outputId": "e52ee675-fd33-42ce-d41c-6aa222b0fc7f"
      },
      "outputs": [
        {
          "data": {
            "text/plain": [
              "2"
            ]
          },
          "execution_count": 13,
          "metadata": {},
          "output_type": "execute_result"
        }
      ],
      "source": [
        "# Use the following code to test your implementation\n",
        "countDog('This dog runs faster than the other dog dude!')"
      ]
    },
    {
      "cell_type": "code",
      "source": [
        "result= countDog('This dog runs faster than the other dog dude!')\n"
      ],
      "metadata": {
        "colab": {
          "base_uri": "https://localhost:8080/"
        },
        "id": "q0gY3drTihsz",
        "outputId": "c1162443-bde6-439e-c99c-bf42f267d132"
      },
      "execution_count": null,
      "outputs": [
        {
          "output_type": "stream",
          "name": "stdout",
          "text": [
            "2\n"
          ]
        }
      ]
    },
    {
      "cell_type": "markdown",
      "metadata": {
        "id": "Cx36RdppgNPt"
      },
      "source": [
        "**9. Task:** Create a class called Person with attributes name and age. Add a method called introduce that prints, \"Hi, I am [name] and I am [age] years old.\" Instantiate an object and call the introduce method."
      ]
    },
    {
      "cell_type": "code",
      "execution_count": null,
      "metadata": {
        "id": "_Qk3sqCdgNPu"
      },
      "outputs": [],
      "source": []
    },
    {
      "cell_type": "code",
      "execution_count": null,
      "metadata": {
        "id": "7g7geDaAgNPu",
        "outputId": "d7e72404-d0d5-449e-d92d-9c48e2c995e1"
      },
      "outputs": [
        {
          "name": "stdout",
          "output_type": "stream",
          "text": [
            "Hi, I am John and I am 25 years old.\n"
          ]
        }
      ],
      "source": []
    },
    {
      "cell_type": "code",
      "source": [
        "def __init__(self, name, age):\n",
        "    self.name = name\n",
        "    self.age = age\n",
        "name = \"John\"\n",
        "age = 25\n",
        "def introduce(self):\n",
        "    print(f\"Hi, I am {self.name} and I am {self.age} years old.\")"
      ],
      "metadata": {
        "id": "PVrP2VNIal0z"
      },
      "execution_count": null,
      "outputs": []
    },
    {
      "cell_type": "markdown",
      "metadata": {
        "id": "4tU9DxuSgNPw"
      },
      "source": [
        "**10.Task:** Write a Python program to create a text file named sample.txt, write \"Hello, Python!\" to it, and then read the content."
      ]
    },
    {
      "cell_type": "code",
      "execution_count": null,
      "metadata": {
        "id": "ZJop3Px-gNPx",
        "outputId": "65c1a5c1-7292-4b72-db98-6825ee2c224d"
      },
      "outputs": [
        {
          "name": "stdout",
          "output_type": "stream",
          "text": [
            "Hello, Python!\n"
          ]
        }
      ],
      "source": []
    },
    {
      "cell_type": "code",
      "execution_count": null,
      "metadata": {
        "colab": {
          "base_uri": "https://localhost:8080/"
        },
        "id": "CjTT7B1QgNPy",
        "outputId": "dcd35f79-fce7-48f7-9576-20c0abc7d49f"
      },
      "outputs": [
        {
          "output_type": "stream",
          "name": "stdout",
          "text": [
            "Hello, Python!\n"
          ]
        }
      ],
      "source": [
        "with open(\"sample.txt\", \"w\") as file:\n",
        "    file.write(\"Hello, Python!\")\n",
        "with open(\"sample.txt\", \"r\") as file:\n",
        "    content = file.read()\n",
        "print(content)"
      ]
    },
    {
      "cell_type": "markdown",
      "metadata": {
        "id": "PXI9jYylgNPz"
      },
      "source": [
        "**11. Task:** Use a list comprehension to create a list of squares for all numbers from 1 to 10.\n",
        "\n"
      ]
    },
    {
      "cell_type": "code",
      "execution_count": null,
      "metadata": {
        "id": "pJpxgSPcgNP0",
        "outputId": "5b6d6b5e-6c8c-4f40-c1f2-bb0713d8db22"
      },
      "outputs": [
        {
          "name": "stdout",
          "output_type": "stream",
          "text": [
            "[1, 4, 9, 16, 25, 36, 49, 64, 81, 100]\n"
          ]
        }
      ],
      "source": [
        "# List comprehension for squares\n",
        "\n"
      ]
    },
    {
      "cell_type": "code",
      "source": [
        "s= [1,2,3,4,5,6,7,8,9,10]\n",
        "squares= [x**2 for x in s]\n",
        "print(squares)"
      ],
      "metadata": {
        "colab": {
          "base_uri": "https://localhost:8080/"
        },
        "id": "aemTU_xSq7W9",
        "outputId": "7519a8f7-15cd-4b62-a719-22598b2db7f4"
      },
      "execution_count": null,
      "outputs": [
        {
          "output_type": "stream",
          "name": "stdout",
          "text": [
            "[1, 4, 9, 16, 25, 36, 49, 64, 81, 100]\n"
          ]
        }
      ]
    },
    {
      "cell_type": "markdown",
      "metadata": {
        "id": "AwQDcBWsgNP2"
      },
      "source": [
        "**12. Task:** Import the math library and use it to calculate the square root of 16.\n",
        "\n"
      ]
    },
    {
      "cell_type": "code",
      "execution_count": null,
      "metadata": {
        "id": "YJD6UHdlgNP2",
        "outputId": "7952d2eb-852a-4b6b-ee04-2dd767c98209"
      },
      "outputs": [
        {
          "name": "stdout",
          "output_type": "stream",
          "text": [
            "The square root of 16 is 4.0.\n"
          ]
        }
      ],
      "source": []
    },
    {
      "cell_type": "code",
      "execution_count": null,
      "metadata": {
        "colab": {
          "base_uri": "https://localhost:8080/"
        },
        "id": "ipn5-BpDgNP3",
        "outputId": "b2d00615-9104-4238-fe58-1098cf31823f"
      },
      "outputs": [
        {
          "output_type": "execute_result",
          "data": {
            "text/plain": [
              "4.0"
            ]
          },
          "metadata": {},
          "execution_count": 7
        }
      ],
      "source": [
        "import math\n",
        "math.sqrt(16)"
      ]
    },
    {
      "cell_type": "markdown",
      "metadata": {
        "id": "72_0v3tLgNP4"
      },
      "source": [
        "**13. Task:** Write a Python program that performs the following:  \n",
        "1. Accepts two numbers from the user.  \n",
        "2. Tries to divide the first number by the second.  \n",
        "3. Handles `ZeroDivisionError` if the second number is zero.  \n",
        "4. Handles `ValueError` if the input is not a number.  \n",
        "5. Prints a message when all operations are complete, whether an exception occurred or not.  \n"
      ]
    },
    {
      "cell_type": "code",
      "execution_count": null,
      "metadata": {
        "id": "eoFolSFCgNP5",
        "outputId": "3018a1ba-d4e9-48e3-b727-fdda13dd360a"
      },
      "outputs": [
        {
          "name": "stdout",
          "output_type": "stream",
          "text": [
            "Error: Invalid input! Please enter a number.\n",
            "Operation completed.\n"
          ]
        }
      ],
      "source": []
    },
    {
      "cell_type": "code",
      "execution_count": null,
      "metadata": {
        "id": "W8tdz1eFgNQW"
      },
      "outputs": [],
      "source": [
        "def divide_numbers():\n",
        "    try:\n",
        "        a = float(input(\"Enter the first number: \"))\n",
        "        b = float(input(\"Enter the second number: \"))\n",
        "        result = a / b\n",
        "        print(f\"The result of division is: {result}\")\n",
        "    except ZeroDivisionError:\n",
        "        print(\"Error: Division by zero is not allowed.\")\n",
        "    except ValueError:\n",
        "        print(\"Error: Invalid input. Please enter valid numbers.\")\n",
        "    finally:\n",
        "        print(\"Program execution completed.\")\n",
        "divide_numbers()"
      ]
    },
    {
      "cell_type": "markdown",
      "metadata": {
        "id": "CcMYGq3KgNQX"
      },
      "source": [
        "**14 Task:** Use lambda expressions and the filter() function to filter out words from a list that don't start with the letter 's'. For example:\n",
        "\n",
        "    seq = ['soup','dog','salad','cat','great']\n",
        "\n",
        "**should be filtered down to:**\n",
        "\n",
        "    ['soup','salad']"
      ]
    },
    {
      "cell_type": "code",
      "execution_count": null,
      "metadata": {
        "id": "Pd9InpMzgNQY"
      },
      "outputs": [],
      "source": [
        "seq = ['soup','dog','salad','cat','great']"
      ]
    },
    {
      "cell_type": "code",
      "execution_count": null,
      "metadata": {
        "id": "WNPf1HKvgNQZ",
        "outputId": "c3f10a18-ace1-4cdc-9a53-dbe34cdfae50"
      },
      "outputs": [
        {
          "data": {
            "text/plain": [
              "['soup', 'salad']"
            ]
          },
          "execution_count": 23,
          "metadata": {},
          "output_type": "execute_result"
        }
      ],
      "source": []
    },
    {
      "cell_type": "code",
      "source": [
        "result= list(filter(lambda x: x.startswith('s'), seq))\n",
        "print(result)"
      ],
      "metadata": {
        "colab": {
          "base_uri": "https://localhost:8080/"
        },
        "id": "8TYQ9659aDAs",
        "outputId": "5bc9e1ea-e09c-4b14-9c18-d79b259b45a3"
      },
      "execution_count": null,
      "outputs": [
        {
          "output_type": "stream",
          "name": "stdout",
          "text": [
            "['soup', 'salad']\n"
          ]
        }
      ]
    },
    {
      "cell_type": "markdown",
      "metadata": {
        "id": "PoIgM4pNgNQb"
      },
      "source": [
        "### Final Problem\n",
        "\n",
        "**15 Task:** You are given a list of students' scores and a cut-off mark. Write a Python program to determine:  \n",
        "1. The number of students who passed the cut-off mark.  \n",
        "2. The number of students who did not pass the cut-off mark.  \n",
        "3. Print the percentage of students who passed and failed.  \n",
        "\n",
        "**Details:**  \n",
        "- You will be provided a list of scores (e.g., `[45, 78, 88, 56, 90, 34, 65, 77]`).  \n",
        "- The cut-off mark is 50.  \n",
        "\n",
        "Write your program to calculate the above and output the results in a clear format.\n",
        "\n",
        "---\n",
        "\n",
        "### **Expected Output Example:**  \n",
        "For the given scores `[45, 78, 88, 56, 90, 34, 65, 77]` and cut-off mark of 50:  \n",
        "\n",
        "Number of students who passed: 5\n",
        "Number of students who failed: 3\n",
        "Percentage of students who passed: 62.5%\n",
        "Percentage of students who failed: 37.5%\n",
        "\n",
        "### **Hint:**  \n",
        "Use a loop or list comprehension to filter the scores based on the cut-off mark. You can calculate percentages using the formula:  "
      ]
    },
    {
      "cell_type": "code",
      "execution_count": null,
      "metadata": {
        "id": "UMO3gajSgNQd",
        "outputId": "8b7aa571-b058-47da-a833-82deecb9e726"
      },
      "outputs": [
        {
          "name": "stdout",
          "output_type": "stream",
          "text": [
            "Number of students who passed: 6\n",
            "Number of students who failed: 2\n",
            "Percentage of students who passed: 75.00%\n",
            "Percentage of students who failed: 25.00%\n"
          ]
        }
      ],
      "source": [
        "# List of student scores\n",
        "scores = [45, 78, 88, 56, 90, 34, 65, 77]\n",
        "\n",
        "# Cut-off mark\n",
        "cut_off = 50\n",
        "\n",
        "\n",
        "\n",
        "# Print the results\n",
        "print(f\"Number of students who passed: {num_passed}\")\n",
        "print(f\"Number of students who failed: {num_failed}\")\n",
        "print(f\"Percentage of students who passed: {percent_passed:.2f}%\")\n",
        "print(f\"Percentage of students who failed: {percent_failed:.2f}%\")"
      ]
    },
    {
      "cell_type": "code",
      "execution_count": null,
      "metadata": {
        "id": "twnjCF8igNQh"
      },
      "outputs": [],
      "source": [
        "def scores(scores, cut_off):\n",
        "    num_passed = sum(score >= cut_off for score in scores)\n",
        "    num_failed = sum(score < cut_off for score in scores)\n",
        "    percent_passed = (num_passed / len(scores)) * 100\n",
        "    percent_failed = (num_failed / len(scores)) * 100\n",
        "    return num_passed, num_failed, percent_passed, percent_failed"
      ]
    },
    {
      "cell_type": "markdown",
      "metadata": {
        "id": "_oxlKWzJgNQi"
      },
      "source": [
        "# Great job!"
      ]
    }
  ],
  "metadata": {
    "kernelspec": {
      "display_name": "base",
      "language": "python",
      "name": "python3"
    },
    "language_info": {
      "codemirror_mode": {
        "name": "ipython",
        "version": 3
      },
      "file_extension": ".py",
      "mimetype": "text/x-python",
      "name": "python",
      "nbconvert_exporter": "python",
      "pygments_lexer": "ipython3",
      "version": "3.12.4"
    },
    "colab": {
      "provenance": [],
      "toc_visible": true,
      "include_colab_link": true
    }
  },
  "nbformat": 4,
  "nbformat_minor": 0
}